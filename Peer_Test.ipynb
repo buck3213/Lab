{
 "cells": [
  {
   "cell_type": "markdown",
   "id": "ab03b657-4b9b-4d23-aad8-2f56718f1447",
   "metadata": {},
   "source": [
    "# My Jupyter Notebook on IBM Watson Studio"
   ]
  },
  {
   "cell_type": "markdown",
   "id": "839bfdf5-dee1-43a9-ac28-66f20833abd0",
   "metadata": {},
   "source": [
    "**Phan Nguyen Van Truong** \n",
    "\n",
    "Project Manager"
   ]
  },
  {
   "cell_type": "markdown",
   "id": "8e468009-6fbf-432f-8a45-0b9349374fe5",
   "metadata": {},
   "source": [
    "*I am interested in Data Science to make the next step in my career. My current company is a fintech startup in crypto industry, hence there is strong interest for the company to further deploy data science in everyday operation*"
   ]
  },
  {
   "cell_type": "markdown",
   "id": "9b8af85d-e8ea-4fe5-84da-670e36a6bb05",
   "metadata": {},
   "source": [
    "### The next line of code is supposed to print out a random number between 16 and 21 ie. a simplified version of blackjack"
   ]
  },
  {
   "cell_type": "code",
   "execution_count": 4,
   "id": "62df2fdf-36b8-4301-943d-1f188839695d",
   "metadata": {},
   "outputs": [
    {
     "name": "stdout",
     "output_type": "stream",
     "text": [
      "19\n"
     ]
    }
   ],
   "source": [
    "from random import randint\n",
    "\n",
    "r = randint(16,21)\n",
    "print(r)"
   ]
  },
  {
   "cell_type": "markdown",
   "id": "e1d58b03-bcc2-4348-b498-557eae071782",
   "metadata": {},
   "source": [
    "A most random list ever:\n",
    "- Car\n",
    "- Laptop\n",
    "- Pillow\n",
    "- ~~Pills~~\n",
    "***"
   ]
  },
  {
   "cell_type": "code",
   "execution_count": null,
   "id": "e51ea983-296c-45eb-8dff-aae1046381bf",
   "metadata": {},
   "outputs": [],
   "source": []
  }
 ],
 "metadata": {
  "kernelspec": {
   "display_name": "Python",
   "language": "python",
   "name": "conda-env-python-py"
  },
  "language_info": {
   "codemirror_mode": {
    "name": "ipython",
    "version": 3
   },
   "file_extension": ".py",
   "mimetype": "text/x-python",
   "name": "python",
   "nbconvert_exporter": "python",
   "pygments_lexer": "ipython3",
   "version": "3.7.12"
  }
 },
 "nbformat": 4,
 "nbformat_minor": 5
}
